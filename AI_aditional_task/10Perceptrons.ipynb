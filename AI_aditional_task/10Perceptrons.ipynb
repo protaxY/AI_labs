{
 "cells": [
  {
   "cell_type": "code",
   "execution_count": 3,
   "metadata": {
    "slideshow": {
     "slide_type": "skip"
    }
   },
   "outputs": [],
   "source": [
    "import pylab\n",
    "from matplotlib import gridspec\n",
    "from sklearn.datasets import make_classification\n",
    "import numpy as np\n",
    "from ipywidgets import interact, interactive, fixed\n",
    "import ipywidgets as widgets\n",
    "import pickle\n",
    "import os\n",
    "\n",
    "\n",
    "# pick the seed for reproducability - change it to explore the effects of random variations\n",
    "np.random.seed(1)\n",
    "import random"
   ]
  },
  {
   "cell_type": "code",
   "execution_count": 4,
   "metadata": {
    "slideshow": {
     "slide_type": "skip"
    }
   },
   "outputs": [],
   "source": [
    "def train_graph(positive_examples, negative_examples, num_iterations = 100):\n",
    "    num_dims = positive_examples.shape[1]\n",
    "    weights = np.zeros((num_dims,1)) # инициализируем веса\n",
    "    \n",
    "    pos_count = positive_examples.shape[0]\n",
    "    neg_count = negative_examples.shape[0]\n",
    "    \n",
    "    report_frequency = 15;\n",
    "    snapshots = []\n",
    "    \n",
    "    for i in range(num_iterations):\n",
    "        pos = random.choice(positive_examples)\n",
    "        neg = random.choice(negative_examples)\n",
    "\n",
    "        z = np.dot(pos, weights)   \n",
    "        if z < 0:\n",
    "            weights = weights + pos.reshape(weights.shape)\n",
    "\n",
    "        z  = np.dot(neg, weights)\n",
    "        if z >= 0:\n",
    "            weights = weights - neg.reshape(weights.shape)\n",
    "            \n",
    "        if i % report_frequency == 0:             \n",
    "            pos_out = np.dot(positive_examples, weights)\n",
    "            neg_out = np.dot(negative_examples, weights)        \n",
    "            pos_correct = (pos_out >= 0).sum() / float(pos_count)\n",
    "            neg_correct = (neg_out < 0).sum() / float(neg_count)\n",
    "            snapshots.append((np.copy(weights),(pos_correct+neg_correct)/2.0))\n",
    "\n",
    "    return np.array(snapshots)"
   ]
  },
  {
   "cell_type": "code",
   "execution_count": 8,
   "metadata": {},
   "outputs": [],
   "source": [
    "with open('mnist.pkl', 'rb') as mnist_pickle:\n",
    "    MNIST = pickle.load(mnist_pickle)"
   ]
  },
  {
   "cell_type": "markdown",
   "metadata": {},
   "source": [
    "# Классификация десяти цифр"
   ]
  },
  {
   "cell_type": "markdown",
   "metadata": {},
   "source": [
    "Обучение на тестовой выборке (80% от всей)"
   ]
  },
  {
   "cell_type": "code",
   "execution_count": 9,
   "metadata": {},
   "outputs": [],
   "source": [
    "def set_mnist_by_label(label):\n",
    "    indices = [i for i, j in enumerate(MNIST['Train']['Labels']) \n",
    "                          if j == label and i < MNIST['Train']['Labels'].shape[0]*0.8]\n",
    "    negative_indices = [i for i, j in enumerate(MNIST['Train']['Labels']) \n",
    "                          if j != label and i < MNIST['Train']['Labels'].shape[0]*0.8]\n",
    "\n",
    "    images = MNIST['Train']['Features'][indices]\n",
    "    negative_images = MNIST['Train']['Features'][negative_indices]\n",
    "    \n",
    "    return images, negative_images"
   ]
  },
  {
   "cell_type": "code",
   "execution_count": 10,
   "metadata": {
    "scrolled": true
   },
   "outputs": [],
   "source": [
    "def tenPerseptrons():\n",
    "    snapshots = []\n",
    "    for i in range(10):\n",
    "        pos, neg = set_mnist_by_label(i)\n",
    "        snapshot = train_graph(pos, neg, 1000)\n",
    "        snapshots.append(snapshot[-1])\n",
    "    return snapshots"
   ]
  },
  {
   "cell_type": "code",
   "execution_count": 11,
   "metadata": {
    "scrolled": true
   },
   "outputs": [
    {
     "name": "stderr",
     "output_type": "stream",
     "text": [
      "C:\\Users\\prota\\AppData\\Local\\Temp/ipykernel_13800/2513895739.py:30: VisibleDeprecationWarning: Creating an ndarray from ragged nested sequences (which is a list-or-tuple of lists-or-tuples-or ndarrays with different lengths or shapes) is deprecated. If you meant to do this, you must specify 'dtype=object' when creating the ndarray.\n",
      "  return np.array(snapshots)\n"
     ]
    },
    {
     "name": "stdout",
     "output_type": "stream",
     "text": [
      "0 0.912785974000901\n",
      "1 0.9725626007199234\n",
      "2 0.9184942006478013\n",
      "3 0.8622719084863971\n",
      "4 0.8939015800388452\n",
      "5 0.8036653141256007\n",
      "6 0.9562796092545924\n",
      "7 0.9450055821770554\n",
      "8 0.80818274503932\n",
      "9 0.8635564010223323\n"
     ]
    }
   ],
   "source": [
    "snapshots = tenPerseptrons()\n",
    "#показать верятности\n",
    "\n",
    "for i in range(len(snapshots)):\n",
    "    print(i, snapshots[i][1])\n",
    "    \n",
    "def predictTenPerseptrons(X, snapshots):\n",
    "    predictions = []\n",
    "    for snapshot in snapshots:\n",
    "        predictions.append(np.dot(X, snapshot[0]))\n",
    "    return predictions.index(max(predictions)), max(predictions)"
   ]
  },
  {
   "cell_type": "markdown",
   "metadata": {},
   "source": [
    "# Тестировние на отставшися 20%"
   ]
  },
  {
   "cell_type": "code",
   "execution_count": 12,
   "metadata": {},
   "outputs": [
    {
     "name": "stdout",
     "output_type": "stream",
     "text": [
      "вероятность правильного ответа: 0.7698809523809523\n"
     ]
    }
   ],
   "source": [
    "faults = 0\n",
    "for ind in range(int(MNIST['Train']['Labels'].shape[0]*0.8), MNIST['Train']['Features'].shape[0]):\n",
    "    prediction, result = predictTenPerseptrons(MNIST['Train']['Features'][ind], snapshots)\n",
    "    if (prediction != MNIST['Train']['Labels'][ind]):\n",
    "        faults += 1\n",
    "\n",
    "print('вероятность правильного ответа:', ((MNIST['Train']['Labels'].shape[0]*0.2) - faults) / (MNIST['Train']['Labels'].shape[0]*0.2))"
   ]
  },
  {
   "cell_type": "code",
   "execution_count": null,
   "metadata": {},
   "outputs": [],
   "source": []
  }
 ],
 "metadata": {
  "celltoolbar": "Slideshow",
  "kernelspec": {
   "display_name": "Python 3 (ipykernel)",
   "language": "python",
   "name": "python3"
  },
  "language_info": {
   "codemirror_mode": {
    "name": "ipython",
    "version": 3
   },
   "file_extension": ".py",
   "mimetype": "text/x-python",
   "name": "python",
   "nbconvert_exporter": "python",
   "pygments_lexer": "ipython3",
   "version": "3.9.7"
  },
  "livereveal": {
   "start_slideshow_at": "selected"
  }
 },
 "nbformat": 4,
 "nbformat_minor": 2
}
